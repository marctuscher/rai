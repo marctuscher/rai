{
 "cells": [
  {
   "cell_type": "markdown",
   "metadata": {},
   "source": [
    "# Basic Simulation Usage"
   ]
  },
  {
   "cell_type": "code",
   "execution_count": 1,
   "metadata": {},
   "outputs": [],
   "source": [
    "import sys\n",
    "sys.path.append('../../../../lib/')\n",
    "import libry as ry\n",
    "import numpy as np\n",
    "import time\n",
    "import matplotlib.pyplot as plt"
   ]
  },
  {
   "cell_type": "markdown",
   "metadata": {},
   "source": [
    "### Generate Configuration and Simulation"
   ]
  },
  {
   "cell_type": "code",
   "execution_count": 2,
   "metadata": {},
   "outputs": [],
   "source": [
    "C = ry.Config()\n",
    "C.addFile(\"pandasTable.g\")\n",
    "obj = C.addFrame(\"object\", args=\"mass: 0.1\")\n",
    "obj.setPosition([.2,.2,1.0])\n",
    "obj.setShape(ry.ST.ssBox, [.05, .05, .05, 0.001])\n",
    "obj.setColor([1,0,1])\n",
    "q_home = C.getJointState()\n",
    "S = ry.Simulation(C, ry.SimulatorEngine.physx, 101)\n",
    "\n",
    "tau = .01"
   ]
  },
  {
   "cell_type": "code",
   "execution_count": 6,
   "metadata": {},
   "outputs": [],
   "source": [
    "# Simulate without any controls\n",
    "for _ in range(100):\n",
    "    S.step([], 0.01, ry.ControlMode.none)"
   ]
  },
  {
   "cell_type": "code",
   "execution_count": 3,
   "metadata": {
    "scrolled": false
   },
   "outputs": [],
   "source": [
    "# align endeffector with object\n",
    "gripper_pos = 0.0\n",
    "for t in range(500):\n",
    "    time.sleep(tau)\n",
    "    \n",
    "    q = S.get_q()\n",
    "    C.setJointState(q) # set your robot model to match the real q\n",
    "    [y,J] = C.evalFeature(ry.FS.positionDiff, [\"R_gripperCenter\", \"object\"])\n",
    "    [y2,J2] = C.evalFeature(ry.FS.scalarProductZZ, [\"R_gripperCenter\", \"object\"])\n",
    "    [y3, J3] = C.evalFeature(ry.FS.qItself, [])\n",
    "    y3 = q_home - q\n",
    "    y *= -1\n",
    "    y3[:-1] *= 1e-6\n",
    "    J3[:-1] *= 1e-6\n",
    "    y3[-1] = gripper_pos - q[-1]\n",
    "    y3[-1] *=100\n",
    "    y2 = [1.] - y2\n",
    "    y = np.concatenate([y*10, y2*10, y3])\n",
    "    J = np.concatenate([J, J2, J3])\n",
    "    vel = J.T @ np.linalg.inv(J@J.T + 1e-2*np.eye(y.shape[0])) @ (y);\n",
    "\n",
    "    #send velocity controls to the simulation\n",
    "    S.step(vel, tau, ry.ControlMode.velocity)"
   ]
  },
  {
   "cell_type": "code",
   "execution_count": 4,
   "metadata": {},
   "outputs": [],
   "source": [
    "# close gripper\n",
    "gripper_pos = -0.04\n",
    "for t in range(500):\n",
    "    time.sleep(tau)\n",
    "    \n",
    "    q = S.get_q()\n",
    "    C.setJointState(q) # set your robot model to match the real q\n",
    "    [y,J] = C.evalFeature(ry.FS.positionDiff, [\"R_gripperCenter\", \"object\"])\n",
    "    [y2,J2] = C.evalFeature(ry.FS.scalarProductZZ, [\"R_gripperCenter\", \"object\"])\n",
    "    [y3, J3] = C.evalFeature(ry.FS.qItself, [])\n",
    "    y3 = q_home - q\n",
    "    y *= -1\n",
    "    y3[:-1] *= 1e-6\n",
    "    y3[-1] = gripper_pos - y3[-1]\n",
    "    y3[-1] *= 100\n",
    "    y2 = [1.] - y2\n",
    "    y = np.concatenate([y*10, y2*10, y3])\n",
    "    J = np.concatenate([J, J2, J3])\n",
    "    vel = J.T @ np.linalg.inv(J@J.T + 1e-2*np.eye(y.shape[0])) @ (y);\n",
    "\n",
    "    #send velocity controls to the simulation\n",
    "    S.step(vel, tau, ry.ControlMode.velocity)"
   ]
  },
  {
   "cell_type": "code",
   "execution_count": 5,
   "metadata": {},
   "outputs": [],
   "source": [
    "# pick up object\n",
    "gripper_pos = -0.04\n",
    "for t in range(500):\n",
    "    time.sleep(tau)\n",
    "    \n",
    "    q = S.get_q()\n",
    "    C.setJointState(q) # set your robot model to match the real q\n",
    "    [y,J] = C.evalFeature(ry.FS.position, [\"R_gripperCenter\"])\n",
    "    [y3, J3] = C.evalFeature(ry.FS.qItself, [])\n",
    "    y3 = q_home - q\n",
    "    y = [.2, 0, 1.4] - y\n",
    "    y3[:-1] *= 1e-6\n",
    "    y3[-1] = gripper_pos - y3[-1]\n",
    "    y3[-1] *= 100\n",
    "    y2 = [1.] - y2\n",
    "    y = np.concatenate([10*y, y3])\n",
    "    J = np.concatenate([J, J3])\n",
    "    vel = J.T @ np.linalg.inv(J@J.T + 1e-6*np.eye(y.shape[0])) @ (y);\n",
    "\n",
    "    #send velocity controls to the simulation\n",
    "    S.step(vel, tau, ry.ControlMode.velocity)"
   ]
  },
  {
   "cell_type": "code",
   "execution_count": 43,
   "metadata": {},
   "outputs": [],
   "source": [
    "# drop object\n",
    "gripper_pos = 0.5\n",
    "for t in range(500):\n",
    "    time.sleep(tau)\n",
    "    \n",
    "    q = S.get_q()\n",
    "    C.setJointState(q) # set your robot model to match the real q\n",
    "    [y,J] = C.evalFeature(ry.FS.position, [\"R_gripperCenter\"])\n",
    "    [y3, J3] = C.evalFeature(ry.FS.qItself, [])\n",
    "    y3 = q_home - q\n",
    "    y = [.2, 0, 1.4] - y\n",
    "    y3[:-1] *= 1e-6\n",
    "    y3[-1] = gripper_pos - y3[-1]\n",
    "    y3[-1] *= 100\n",
    "    y2 = [1.] - y2\n",
    "    y = np.concatenate([10*y, y3])\n",
    "    J = np.concatenate([J, J3])\n",
    "    vel = J.T @ np.linalg.inv(J@J.T + 1e-6*np.eye(y.shape[0])) @ (y);\n",
    "\n",
    "    #send velocity controls to the simulation\n",
    "    S.step(vel, tau, ry.ControlMode.velocity)"
   ]
  },
  {
   "cell_type": "code",
   "execution_count": null,
   "metadata": {},
   "outputs": [],
   "source": []
  }
 ],
 "metadata": {
  "kernelspec": {
   "display_name": "'Python Interactive'",
   "language": "python",
   "name": "9d8dd845-23e4-4301-85fd-15051caed6a7"
  },
  "language_info": {
   "codemirror_mode": {
    "name": "ipython",
    "version": 3
   },
   "file_extension": ".py",
   "mimetype": "text/x-python",
   "name": "python",
   "nbconvert_exporter": "python",
   "pygments_lexer": "ipython3",
   "version": "3.6.8"
  }
 },
 "nbformat": 4,
 "nbformat_minor": 2
}
